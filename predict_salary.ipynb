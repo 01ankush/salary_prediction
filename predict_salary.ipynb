{
 "cells": [
  {
   "cell_type": "code",
   "execution_count": 282,
   "id": "5d11737d",
   "metadata": {},
   "outputs": [],
   "source": [
    "#Basic and most important libraries\n",
    "import pandas as pd \n",
    "import numpy as np\n",
    "import matplotlib.pyplot as plt\n",
    "import seaborn as sns\n",
    "from sklearn.metrics import r2_score , mean_squared_error\n",
    "\n",
    "#Classifiers\n",
    "from sklearn.ensemble import AdaBoostClassifier , GradientBoostingClassifier,RandomForestClassifier\n",
    "from sklearn.linear_model import LogisticRegression\n",
    "from sklearn.neighbors import KNeighborsClassifier\n",
    "from sklearn.tree import DecisionTreeClassifier \n",
    "from sklearn.linear_model import LinearRegression\n",
    "from sklearn.svm import SVC\n",
    "\n",
    "#Model evaluation tools\n",
    "from sklearn.metrics import classification_report , accuracy_score , confusion_matrix\n",
    "from sklearn.metrics import f1_score\n",
    "from sklearn.model_selection import cross_val_score\n",
    "from sklearn.tree import DecisionTreeRegressor\n",
    "#Data processing functions\n",
    "\n",
    "from sklearn.model_selection import train_test_split\n",
    "from sklearn.preprocessing import LabelEncoder\n",
    "le = LabelEncoder()\n",
    "\n",
    "import warnings\n",
    "warnings.filterwarnings(\"ignore\")"
   ]
  },
  {
   "cell_type": "code",
   "execution_count": 283,
   "id": "80266b21",
   "metadata": {},
   "outputs": [],
   "source": [
    "data = pd.read_excel(\"Dataset.xlsx\")\n",
    "data.columns=['Age', 'Education', 'Education Yrs', 'Marital Status', 'Employer',\n",
    "       'Occupation', 'Relationship Status', 'Sex', 'Capital Gain',\n",
    "       'Capital Loss', 'Hours per Week', 'Native Country', 'Salary']"
   ]
  },
  {
   "cell_type": "code",
   "execution_count": 284,
   "id": "6a17b392",
   "metadata": {},
   "outputs": [
    {
     "data": {
      "text/html": [
       "<div>\n",
       "<style scoped>\n",
       "    .dataframe tbody tr th:only-of-type {\n",
       "        vertical-align: middle;\n",
       "    }\n",
       "\n",
       "    .dataframe tbody tr th {\n",
       "        vertical-align: top;\n",
       "    }\n",
       "\n",
       "    .dataframe thead th {\n",
       "        text-align: right;\n",
       "    }\n",
       "</style>\n",
       "<table border=\"1\" class=\"dataframe\">\n",
       "  <thead>\n",
       "    <tr style=\"text-align: right;\">\n",
       "      <th></th>\n",
       "      <th>Age</th>\n",
       "      <th>Education</th>\n",
       "      <th>Education Yrs</th>\n",
       "      <th>Marital Status</th>\n",
       "      <th>Employer</th>\n",
       "      <th>Occupation</th>\n",
       "      <th>Relationship Status</th>\n",
       "      <th>Sex</th>\n",
       "      <th>Capital Gain</th>\n",
       "      <th>Capital Loss</th>\n",
       "      <th>Hours per Week</th>\n",
       "      <th>Native Country</th>\n",
       "      <th>Salary</th>\n",
       "    </tr>\n",
       "  </thead>\n",
       "  <tbody>\n",
       "    <tr>\n",
       "      <th>0</th>\n",
       "      <td>39</td>\n",
       "      <td>Bachelors</td>\n",
       "      <td>13</td>\n",
       "      <td>Never-married</td>\n",
       "      <td>State-gov</td>\n",
       "      <td>Adm-clerical</td>\n",
       "      <td>Not-in-family</td>\n",
       "      <td>Male</td>\n",
       "      <td>2174</td>\n",
       "      <td>0</td>\n",
       "      <td>40</td>\n",
       "      <td>United-States</td>\n",
       "      <td>77516</td>\n",
       "    </tr>\n",
       "    <tr>\n",
       "      <th>1</th>\n",
       "      <td>50</td>\n",
       "      <td>Bachelors</td>\n",
       "      <td>13</td>\n",
       "      <td>Married-civ-spouse</td>\n",
       "      <td>Self-emp-not-inc</td>\n",
       "      <td>Exec-managerial</td>\n",
       "      <td>Husband</td>\n",
       "      <td>Male</td>\n",
       "      <td>0</td>\n",
       "      <td>0</td>\n",
       "      <td>13</td>\n",
       "      <td>United-States</td>\n",
       "      <td>83311</td>\n",
       "    </tr>\n",
       "    <tr>\n",
       "      <th>2</th>\n",
       "      <td>38</td>\n",
       "      <td>HS-grad</td>\n",
       "      <td>9</td>\n",
       "      <td>Divorced</td>\n",
       "      <td>Private</td>\n",
       "      <td>Handlers-cleaners</td>\n",
       "      <td>Not-in-family</td>\n",
       "      <td>Male</td>\n",
       "      <td>0</td>\n",
       "      <td>0</td>\n",
       "      <td>40</td>\n",
       "      <td>United-States</td>\n",
       "      <td>215646</td>\n",
       "    </tr>\n",
       "    <tr>\n",
       "      <th>3</th>\n",
       "      <td>53</td>\n",
       "      <td>11th</td>\n",
       "      <td>7</td>\n",
       "      <td>Married-civ-spouse</td>\n",
       "      <td>Private</td>\n",
       "      <td>Handlers-cleaners</td>\n",
       "      <td>Husband</td>\n",
       "      <td>Male</td>\n",
       "      <td>0</td>\n",
       "      <td>0</td>\n",
       "      <td>40</td>\n",
       "      <td>United-States</td>\n",
       "      <td>234721</td>\n",
       "    </tr>\n",
       "    <tr>\n",
       "      <th>4</th>\n",
       "      <td>28</td>\n",
       "      <td>Bachelors</td>\n",
       "      <td>13</td>\n",
       "      <td>Married-civ-spouse</td>\n",
       "      <td>Private</td>\n",
       "      <td>Prof-specialty</td>\n",
       "      <td>Wife</td>\n",
       "      <td>Female</td>\n",
       "      <td>0</td>\n",
       "      <td>0</td>\n",
       "      <td>40</td>\n",
       "      <td>Cuba</td>\n",
       "      <td>338409</td>\n",
       "    </tr>\n",
       "  </tbody>\n",
       "</table>\n",
       "</div>"
      ],
      "text/plain": [
       "   Age   Education  Education Yrs       Marital Status           Employer  \\\n",
       "0   39   Bachelors             13        Never-married          State-gov   \n",
       "1   50   Bachelors             13   Married-civ-spouse   Self-emp-not-inc   \n",
       "2   38     HS-grad              9             Divorced            Private   \n",
       "3   53        11th              7   Married-civ-spouse            Private   \n",
       "4   28   Bachelors             13   Married-civ-spouse            Private   \n",
       "\n",
       "           Occupation Relationship Status      Sex  Capital Gain  \\\n",
       "0        Adm-clerical       Not-in-family     Male          2174   \n",
       "1     Exec-managerial             Husband     Male             0   \n",
       "2   Handlers-cleaners       Not-in-family     Male             0   \n",
       "3   Handlers-cleaners             Husband     Male             0   \n",
       "4      Prof-specialty                Wife   Female             0   \n",
       "\n",
       "   Capital Loss  Hours per Week  Native Country  Salary  \n",
       "0             0              40   United-States   77516  \n",
       "1             0              13   United-States   83311  \n",
       "2             0              40   United-States  215646  \n",
       "3             0              40   United-States  234721  \n",
       "4             0              40            Cuba  338409  "
      ]
     },
     "execution_count": 284,
     "metadata": {},
     "output_type": "execute_result"
    }
   ],
   "source": [
    "data.head()"
   ]
  },
  {
   "cell_type": "code",
   "execution_count": 285,
   "id": "bd85103e",
   "metadata": {},
   "outputs": [
    {
     "data": {
      "text/plain": [
       "(25999, 13)"
      ]
     },
     "execution_count": 285,
     "metadata": {},
     "output_type": "execute_result"
    }
   ],
   "source": [
    "data.shape"
   ]
  },
  {
   "cell_type": "code",
   "execution_count": 286,
   "id": "18f0b87d",
   "metadata": {},
   "outputs": [
    {
     "data": {
      "text/plain": [
       "Age                    0\n",
       "Education              0\n",
       "Education Yrs          0\n",
       "Marital Status         0\n",
       "Employer               0\n",
       "Occupation             0\n",
       "Relationship Status    0\n",
       "Sex                    0\n",
       "Capital Gain           0\n",
       "Capital Loss           0\n",
       "Hours per Week         0\n",
       "Native Country         0\n",
       "Salary                 0\n",
       "dtype: int64"
      ]
     },
     "execution_count": 286,
     "metadata": {},
     "output_type": "execute_result"
    }
   ],
   "source": [
    "data.isnull().sum()"
   ]
  },
  {
   "cell_type": "code",
   "execution_count": 287,
   "id": "f9f30ab1",
   "metadata": {},
   "outputs": [
    {
     "data": {
      "text/plain": [
       "array([ 77516,  83311, 215646, ...,  58213, 125684, 413760], dtype=int64)"
      ]
     },
     "execution_count": 287,
     "metadata": {},
     "output_type": "execute_result"
    }
   ],
   "source": [
    "data['Salary'].unique()"
   ]
  },
  {
   "cell_type": "code",
   "execution_count": 288,
   "id": "216fdca0",
   "metadata": {},
   "outputs": [
    {
     "data": {
      "text/plain": [
       "<AxesSubplot:xlabel='Hours per Week'>"
      ]
     },
     "execution_count": 288,
     "metadata": {},
     "output_type": "execute_result"
    },
    {
     "data": {
      "image/png": "[encoded data removed]",
      "text/plain": [
       "<Figure size 432x288 with 1 Axes>"
      ]
     },
     "metadata": {
      "needs_background": "light"
     },
     "output_type": "display_data"
    }
   ],
   "source": [
    "#removing outliers from hours_per_week\n",
    "sns.boxplot(data['Hours per Week'])"
   ]
  },
  {
   "cell_type": "code",
   "execution_count": 289,
   "id": "3e396440",
   "metadata": {},
   "outputs": [],
   "source": [
    "def remove_outlier_hours_per_week(data):\n",
    "    IQR = data['Hours per Week'].quantile(0.75) - data['Hours per Week'].quantile(0.25)\n",
    "    lower_range = data['Hours per Week'].quantile(0.25) - (1.5 * IQR)\n",
    "    upper_range = data['Hours per Week'].quantile(0.75) + (1.5 * IQR)                                                  \n",
    "    data.loc[data['Hours per Week'] <= lower_range, 'Hours per Week'] = lower_range\n",
    "    data.loc[data['Hours per Week'] >= upper_range, 'Hours per Week'] = upper_range"
   ]
  },
  {
   "cell_type": "code",
   "execution_count": 290,
   "id": "900ccc4c",
   "metadata": {},
   "outputs": [],
   "source": [
    "remove_outlier_hours_per_week(data)"
   ]
  },
  {
   "cell_type": "code",
   "execution_count": 291,
   "id": "8c62f2b4",
   "metadata": {},
   "outputs": [
    {
     "data": {
      "text/plain": [
       "<AxesSubplot:xlabel='Hours per Week'>"
      ]
     },
     "execution_count": 291,
     "metadata": {},
     "output_type": "execute_result"
    },
    {
     "data": {
      "image/png": "[encoded data removed]",
      "text/plain": [
       "<Figure size 432x288 with 1 Axes>"
      ]
     },
     "metadata": {
      "needs_background": "light"
     },
     "output_type": "display_data"
    }
   ],
   "source": [
    "sns.boxplot(data['Hours per Week'])"
   ]
  },
  {
   "cell_type": "code",
   "execution_count": 292,
   "id": "e1b4ba31",
   "metadata": {},
   "outputs": [
    {
     "data": {
      "text/plain": [
       "<AxesSubplot:xlabel='Education Yrs'>"
      ]
     },
     "execution_count": 292,
     "metadata": {},
     "output_type": "execute_result"
    },
    {
     "data": {
      "image/png": "[encoded data removed]",
      "text/plain": [
       "<Figure size 432x288 with 1 Axes>"
      ]
     },
     "metadata": {
      "needs_background": "light"
     },
     "output_type": "display_data"
    }
   ],
   "source": [
    "sns.boxplot(data['Education Yrs'])"
   ]
  },
  {
   "cell_type": "code",
   "execution_count": 293,
   "id": "3ef5b503",
   "metadata": {},
   "outputs": [],
   "source": [
    "def remove_outlier_education_yrs(data):\n",
    "    IQR = data['Education Yrs'].quantile(0.75) - data['Education Yrs'].quantile(0.25)\n",
    "    lower_range = data['Education Yrs'].quantile(0.25) - (1.5 * IQR)\n",
    "    upper_range = data['Education Yrs'].quantile(0.75) + (1.5 * IQR)                                                  \n",
    "    data.loc[data['Education Yrs'] <= lower_range, 'Education Yrs'] = lower_range\n",
    "    data.loc[data['Education Yrs'] >= upper_range, 'Education Yrs'] = upper_range"
   ]
  },
  {
   "cell_type": "code",
   "execution_count": 294,
   "id": "ea0ea985",
   "metadata": {},
   "outputs": [],
   "source": [
    "remove_outlier_education_yrs(data)"
   ]
  },
  {
   "cell_type": "code",
   "execution_count": 295,
   "id": "ca9c57c8",
   "metadata": {},
   "outputs": [
    {
     "data": {
      "text/plain": [
       "<AxesSubplot:xlabel='Education Yrs'>"
      ]
     },
     "execution_count": 295,
     "metadata": {},
     "output_type": "execute_result"
    },
    {
     "data": {
      "image/png": "[encoded data removed]",
      "text/plain": [
       "<Figure size 432x288 with 1 Axes>"
      ]
     },
     "metadata": {
      "needs_background": "light"
     },
     "output_type": "display_data"
    }
   ],
   "source": [
    "sns.boxplot(data['Education Yrs'])"
   ]
  },
  {
   "cell_type": "code",
   "execution_count": 296,
   "id": "cb9dec4c",
   "metadata": {},
   "outputs": [
    {
     "data": {
      "text/plain": [
       "<AxesSubplot:xlabel='Age'>"
      ]
     },
     "execution_count": 296,
     "metadata": {},
     "output_type": "execute_result"
    },
    {
     "data": {
      "image/png": "[encoded data removed]",
      "text/plain": [
       "<Figure size 432x288 with 1 Axes>"
      ]
     },
     "metadata": {
      "needs_background": "light"
     },
     "output_type": "display_data"
    }
   ],
   "source": [
    "sns.boxplot(data['Age'])"
   ]
  },
  {
   "cell_type": "code",
   "execution_count": 297,
   "id": "e6ac2953",
   "metadata": {},
   "outputs": [],
   "source": [
    "def remove_outlier_age(data):\n",
    "    IQR = data['Age'].quantile(0.75) - data['Age'].quantile(0.25)\n",
    "    lower_range = data['Age'].quantile(0.25) - (1.5 * IQR)\n",
    "    upper_range = data['Age'].quantile(0.75) + (1.5 * IQR)                                                  \n",
    "    data.loc[data['Age'] <= lower_range, 'Age'] = lower_range\n",
    "    data.loc[data['Age'] >= upper_range, 'Age'] = upper_range"
   ]
  },
  {
   "cell_type": "code",
   "execution_count": 298,
   "id": "b136d271",
   "metadata": {},
   "outputs": [],
   "source": [
    "remove_outlier_age(data)"
   ]
  },
  {
   "cell_type": "code",
   "execution_count": 299,
   "id": "1929f126",
   "metadata": {},
   "outputs": [
    {
     "data": {
      "text/plain": [
       "<AxesSubplot:xlabel='Age'>"
      ]
     },
     "execution_count": 299,
     "metadata": {},
     "output_type": "execute_result"
    },
    {
     "data": {
      "image/png": "[encoded data removed]",
      "text/plain": [
       "<Figure size 432x288 with 1 Axes>"
      ]
     },
     "metadata": {
      "needs_background": "light"
     },
     "output_type": "display_data"
    }
   ],
   "source": [
    "sns.boxplot(data['Age'])"
   ]
  },
  {
   "cell_type": "code",
   "execution_count": 300,
   "id": "409a26c4",
   "metadata": {},
   "outputs": [
    {
     "data": {
      "text/plain": [
       "<AxesSubplot:xlabel='Capital Gain'>"
      ]
     },
     "execution_count": 300,
     "metadata": {},
     "output_type": "execute_result"
    },
    {
     "data": {
      "image/png": "[encoded data removed]",
      "text/plain": [
       "<Figure size 432x288 with 1 Axes>"
      ]
     },
     "metadata": {
      "needs_background": "light"
     },
     "output_type": "display_data"
    }
   ],
   "source": [
    "sns.boxplot(data['Capital Gain'])"
   ]
  },
  {
   "cell_type": "code",
   "execution_count": 301,
   "id": "bac4aa92",
   "metadata": {},
   "outputs": [],
   "source": [
    "def remove_outlier_Capital_Gain(data):\n",
    "    IQR = data['Capital Gain'].quantile(0.75) - data['Capital Gain'].quantile(0.25)\n",
    "    lower_range = data['Capital Gain'].quantile(0.25) - (1.5 * IQR)\n",
    "    upper_range = data['Capital Gain'].quantile(0.75) + (1.5 * IQR)                                                  \n",
    "    data.loc[data['Capital Gain'] <= lower_range, 'Capital Gain'] = lower_range\n",
    "    data.loc[data['Capital Gain'] >= upper_range, 'Capital Gain'] = upper_range"
   ]
  },
  {
   "cell_type": "code",
   "execution_count": 302,
   "id": "c8e8e348",
   "metadata": {},
   "outputs": [],
   "source": [
    "remove_outlier_Capital_Gain(data)"
   ]
  },
  {
   "cell_type": "code",
   "execution_count": 303,
   "id": "3706ea9e",
   "metadata": {},
   "outputs": [
    {
     "data": {
      "text/plain": [
       "<AxesSubplot:xlabel='Capital Gain'>"
      ]
     },
     "execution_count": 303,
     "metadata": {},
     "output_type": "execute_result"
    },
    {
     "data": {
      "image/png": "[encoded data removed]",
      "text/plain": [
       "<Figure size 432x288 with 1 Axes>"
      ]
     },
     "metadata": {
      "needs_background": "light"
     },
     "output_type": "display_data"
    }
   ],
   "source": [
    "sns.boxplot(data['Capital Gain'])"
   ]
  },
  {
   "cell_type": "code",
   "execution_count": 304,
   "id": "5d7eca33",
   "metadata": {},
   "outputs": [
    {
     "data": {
      "text/plain": [
       "<AxesSubplot:xlabel='Capital Loss'>"
      ]
     },
     "execution_count": 304,
     "metadata": {},
     "output_type": "execute_result"
    },
    {
     "data": {
      "image/png": "[encoded data removed]",
      "text/plain": [
       "<Figure size 432x288 with 1 Axes>"
      ]
     },
     "metadata": {
      "needs_background": "light"
     },
     "output_type": "display_data"
    }
   ],
   "source": [
    "sns.boxplot(data['Capital Loss'])"
   ]
  },
  {
   "cell_type": "code",
   "execution_count": 305,
   "id": "c50b3474",
   "metadata": {},
   "outputs": [],
   "source": [
    "def remove_outlier_Capital_Loss(data):\n",
    "    IQR = data['Capital Loss'].quantile(0.75) - data['Capital Loss'].quantile(0.25)\n",
    "    lower_range = data['Capital Loss'].quantile(0.25) - (1.5 * IQR)\n",
    "    upper_range = data['Capital Loss'].quantile(0.75) + (1.5 * IQR)                                                  \n",
    "    data.loc[data['Capital Loss'] <= lower_range, 'Capital Loss'] = lower_range\n",
    "    data.loc[data['Capital Loss'] >= upper_range, 'Capital Loss'] = upper_range"
   ]
  },
  {
   "cell_type": "code",
   "execution_count": 306,
   "id": "cfef544a",
   "metadata": {},
   "outputs": [],
   "source": [
    "remove_outlier_Capital_Loss(data)"
   ]
  },
  {
   "cell_type": "code",
   "execution_count": 307,
   "id": "13a1a0f2",
   "metadata": {},
   "outputs": [
    {
     "data": {
      "text/plain": [
       "<AxesSubplot:xlabel='Capital Loss'>"
      ]
     },
     "execution_count": 307,
     "metadata": {},
     "output_type": "execute_result"
    },
    {
     "data": {
      "image/png": "[encoded data removed]",
      "text/plain": [
       "<Figure size 432x288 with 1 Axes>"
      ]
     },
     "metadata": {
      "needs_background": "light"
     },
     "output_type": "display_data"
    }
   ],
   "source": [
    "sns.boxplot(data['Capital Loss'])"
   ]
  },
  {
   "cell_type": "code",
   "execution_count": 308,
   "id": "fba4f2cd",
   "metadata": {},
   "outputs": [
    {
     "data": {
      "text/plain": [
       "<AxesSubplot:xlabel='Salary'>"
      ]
     },
     "execution_count": 308,
     "metadata": {},
     "output_type": "execute_result"
    },
    {
     "data": {
      "image/png": "[encoded data removed]",
      "text/plain": [
       "<Figure size 432x288 with 1 Axes>"
      ]
     },
     "metadata": {
      "needs_background": "light"
     },
     "output_type": "display_data"
    }
   ],
   "source": [
    "sns.boxplot(data['Salary'])"
   ]
  },
  {
   "cell_type": "code",
   "execution_count": 309,
   "id": "25c99592",
   "metadata": {},
   "outputs": [],
   "source": [
    "def remove_outlier_Salary(data):\n",
    "    IQR = data['Salary'].quantile(0.75) - data['Salary'].quantile(0.25)\n",
    "    lower_range = data['Salary'].quantile(0.25) - (1.5 * IQR)\n",
    "    upper_range = data['Salary'].quantile(0.75) + (1.5 * IQR)                                                  \n",
    "    data.loc[data['Salary'] <= lower_range, 'Salary'] = lower_range\n",
    "    data.loc[data['Salary'] >= upper_range, 'Salary'] = upper_range"
   ]
  },
  {
   "cell_type": "code",
   "execution_count": 310,
   "id": "25bd762c",
   "metadata": {},
   "outputs": [],
   "source": [
    "remove_outlier_Salary(data)"
   ]
  },
  {
   "cell_type": "code",
   "execution_count": 311,
   "id": "0c83bb50",
   "metadata": {},
   "outputs": [
    {
     "data": {
      "text/plain": [
       "<AxesSubplot:xlabel='Salary'>"
      ]
     },
     "execution_count": 311,
     "metadata": {},
     "output_type": "execute_result"
    },
    {
     "data": {
      "image/png": "[encoded data removed]",
      "text/plain": [
       "<Figure size 432x288 with 1 Axes>"
      ]
     },
     "metadata": {
      "needs_background": "light"
     },
     "output_type": "display_data"
    }
   ],
   "source": [
    "sns.boxplot(data['Salary'])"
   ]
  },
  {
   "cell_type": "code",
   "execution_count": 312,
   "id": "11c4c853",
   "metadata": {},
   "outputs": [
    {
     "data": {
      "text/plain": [
       "<AxesSubplot:>"
      ]
     },
     "execution_count": 312,
     "metadata": {},
     "output_type": "execute_result"
    },
    {
     "data": {
      "image/png": "[encoded data removed]",
      "text/plain": [
       "<Figure size 720x720 with 2 Axes>"
      ]
     },
     "metadata": {
      "needs_background": "light"
     },
     "output_type": "display_data"
    }
   ],
   "source": [
    "plt.figure(figsize=(10,10))\n",
    "corr = data.corr()\n",
    "sns.heatmap(corr,annot=True)"
   ]
  },
  {
   "cell_type": "code",
   "execution_count": 313,
   "id": "e06a8088",
   "metadata": {},
   "outputs": [],
   "source": [
    "data.drop('Relationship Status',axis=1,inplace=True)\n",
    "data.drop('Age',axis=1,inplace=True)\n",
    "data.drop('Sex',axis=1,inplace=True)\n",
    "data.drop('Capital Loss',axis=1,inplace=True)\n",
    "data.drop('Capital Gain',axis=1,inplace=True)"
   ]
  },
  {
   "cell_type": "code",
   "execution_count": 314,
   "id": "03cd1f8c",
   "metadata": {},
   "outputs": [],
   "source": [
    "#feature enginnering\n",
    "def feature_engineering(data):\n",
    "    \n",
    "    #convert sex column into 0 and 1 , if male then 1 else 0\n",
    "#     data['Sex'] = np.where(data['Sex'] == \" Male\", 1, 0)\n",
    "    \n",
    "    #Salary\n",
    "#     data['Salary'].mask(np.int(data['Salary']) < 100000, '<1L', inplace=True)\n",
    "#     data['Salary'].mask(data['Salary'].astype(int64) > 100000 and data['Salary'] < 100000 , '1L-2L', inplace=True)\n",
    "#     data['Salary'].mask(data['Salary'].astype(int64) > 200000 and data['Salary'] < 300000 , '2L-3L', inplace=True)\n",
    "#     data['Salary'].mask(data['Salary'].astype(int64) > 300000 and data['Salary'] < 400000 , '3L-4L', inplace=True)\n",
    "#     data['Salary'].mask(data['Salary'].astype(int64) > 400000 , '>4L', inplace=True)\n",
    "    \n",
    "    #occupation\n",
    "    data['Occupation'] = np.where(data['Occupation'] == ' ?','Missing',data['Occupation'])\n",
    "    label_enco_occu = {value: key for key, value in enumerate(data['Occupation'].unique())}\n",
    "    data['Occupation'] = data['Occupation'].map(label_enco_occu)\n",
    "    \n",
    "    label_enco_marital_status = {value: key for key, value in enumerate(data['Marital Status'].unique())}\n",
    "    data['Marital Status'] = data['Marital Status'].map(label_enco_marital_status)\n",
    "    \n",
    "    \n",
    "    label_enco_edu = {value: key for key, value in enumerate(data['Education'].unique())}\n",
    "    data['Education'] = data['Education'].map(label_enco_edu)\n",
    "    \n",
    "    #Employer\n",
    "    data['Employer'] = np.where(data['Employer'] == ' ?','Missing',data['Employer'])\n",
    "    label_enco_employee = {value: key for key, value in enumerate(data['Employer'].unique())}\n",
    "    data['Employer'] = data['Employer'].map(label_enco_employee)\n",
    "    \n",
    "    #Native Country\n",
    "    data['Native Country'] = np.where(data['Native Country'] == ' ?','Missing',data['Native Country'])\n",
    "    label_enco_country = {value: key for key, value in enumerate(data['Native Country'].unique())}\n",
    "    data['Native Country'] = data['Native Country'].map(label_enco_country)\n",
    "    \n",
    "    #Relationship Status\n",
    "#     label_enco_edu = {value: key for key, value in enumerate(data['Relationship Status'].unique())}\n",
    "#     data['Relationship Status'] = data['Relationship Status'].map(label_enco_edu)\n",
    "    return data"
   ]
  },
  {
   "cell_type": "code",
   "execution_count": 315,
   "id": "37b068a7",
   "metadata": {},
   "outputs": [],
   "source": [
    "data = feature_engineering(data)"
   ]
  },
  {
   "cell_type": "code",
   "execution_count": 316,
   "id": "50937b05",
   "metadata": {},
   "outputs": [
    {
     "data": {
      "text/html": [
       "<div>\n",
       "<style scoped>\n",
       "    .dataframe tbody tr th:only-of-type {\n",
       "        vertical-align: middle;\n",
       "    }\n",
       "\n",
       "    .dataframe tbody tr th {\n",
       "        vertical-align: top;\n",
       "    }\n",
       "\n",
       "    .dataframe thead th {\n",
       "        text-align: right;\n",
       "    }\n",
       "</style>\n",
       "<table border=\"1\" class=\"dataframe\">\n",
       "  <thead>\n",
       "    <tr style=\"text-align: right;\">\n",
       "      <th></th>\n",
       "      <th>Education</th>\n",
       "      <th>Education Yrs</th>\n",
       "      <th>Marital Status</th>\n",
       "      <th>Employer</th>\n",
       "      <th>Occupation</th>\n",
       "      <th>Hours per Week</th>\n",
       "      <th>Native Country</th>\n",
       "      <th>Salary</th>\n",
       "    </tr>\n",
       "  </thead>\n",
       "  <tbody>\n",
       "    <tr>\n",
       "      <th>0</th>\n",
       "      <td>0</td>\n",
       "      <td>13.0</td>\n",
       "      <td>0</td>\n",
       "      <td>0</td>\n",
       "      <td>0</td>\n",
       "      <td>40.0</td>\n",
       "      <td>0</td>\n",
       "      <td>77516</td>\n",
       "    </tr>\n",
       "    <tr>\n",
       "      <th>1</th>\n",
       "      <td>0</td>\n",
       "      <td>13.0</td>\n",
       "      <td>1</td>\n",
       "      <td>1</td>\n",
       "      <td>1</td>\n",
       "      <td>32.5</td>\n",
       "      <td>0</td>\n",
       "      <td>83311</td>\n",
       "    </tr>\n",
       "    <tr>\n",
       "      <th>2</th>\n",
       "      <td>1</td>\n",
       "      <td>9.0</td>\n",
       "      <td>2</td>\n",
       "      <td>2</td>\n",
       "      <td>2</td>\n",
       "      <td>40.0</td>\n",
       "      <td>0</td>\n",
       "      <td>215646</td>\n",
       "    </tr>\n",
       "    <tr>\n",
       "      <th>3</th>\n",
       "      <td>2</td>\n",
       "      <td>7.0</td>\n",
       "      <td>1</td>\n",
       "      <td>2</td>\n",
       "      <td>2</td>\n",
       "      <td>40.0</td>\n",
       "      <td>0</td>\n",
       "      <td>234721</td>\n",
       "    </tr>\n",
       "    <tr>\n",
       "      <th>4</th>\n",
       "      <td>0</td>\n",
       "      <td>13.0</td>\n",
       "      <td>1</td>\n",
       "      <td>2</td>\n",
       "      <td>3</td>\n",
       "      <td>40.0</td>\n",
       "      <td>1</td>\n",
       "      <td>338409</td>\n",
       "    </tr>\n",
       "  </tbody>\n",
       "</table>\n",
       "</div>"
      ],
      "text/plain": [
       "   Education  Education Yrs  Marital Status  Employer  Occupation  \\\n",
       "0          0           13.0               0         0           0   \n",
       "1          0           13.0               1         1           1   \n",
       "2          1            9.0               2         2           2   \n",
       "3          2            7.0               1         2           2   \n",
       "4          0           13.0               1         2           3   \n",
       "\n",
       "   Hours per Week  Native Country  Salary  \n",
       "0            40.0               0   77516  \n",
       "1            32.5               0   83311  \n",
       "2            40.0               0  215646  \n",
       "3            40.0               0  234721  \n",
       "4            40.0               1  338409  "
      ]
     },
     "execution_count": 316,
     "metadata": {},
     "output_type": "execute_result"
    }
   ],
   "source": [
    "data.head()"
   ]
  },
  {
   "cell_type": "code",
   "execution_count": 317,
   "id": "d8cedd3c",
   "metadata": {},
   "outputs": [],
   "source": [
    "#Scaling"
   ]
  },
  {
   "cell_type": "code",
   "execution_count": 318,
   "id": "9d79ba4f",
   "metadata": {},
   "outputs": [],
   "source": [
    "for i in range(25999):\n",
    "    if data.at[i,'Salary'] < 200000:\n",
    "        data.at[i,'Salary'] = '<2L'\n",
    "    else:\n",
    "        data.at[i,'Salary'] = '>2L'\n",
    "        "
   ]
  },
  {
   "cell_type": "code",
   "execution_count": 319,
   "id": "4618e5c0",
   "metadata": {},
   "outputs": [
    {
     "data": {
      "text/plain": [
       "0        <2L\n",
       "1        <2L\n",
       "2        >2L\n",
       "3        >2L\n",
       "4        >2L\n",
       "        ... \n",
       "25994    >2L\n",
       "25995    <2L\n",
       "25996    <2L\n",
       "25997    >2L\n",
       "25998    >2L\n",
       "Name: Salary, Length: 25999, dtype: object"
      ]
     },
     "execution_count": 319,
     "metadata": {},
     "output_type": "execute_result"
    }
   ],
   "source": [
    "data['Salary']"
   ]
  },
  {
   "cell_type": "code",
   "execution_count": 320,
   "id": "9fccf921",
   "metadata": {},
   "outputs": [
    {
     "data": {
      "text/html": [
       "<div>\n",
       "<style scoped>\n",
       "    .dataframe tbody tr th:only-of-type {\n",
       "        vertical-align: middle;\n",
       "    }\n",
       "\n",
       "    .dataframe tbody tr th {\n",
       "        vertical-align: top;\n",
       "    }\n",
       "\n",
       "    .dataframe thead th {\n",
       "        text-align: right;\n",
       "    }\n",
       "</style>\n",
       "<table border=\"1\" class=\"dataframe\">\n",
       "  <thead>\n",
       "    <tr style=\"text-align: right;\">\n",
       "      <th></th>\n",
       "      <th>Education</th>\n",
       "      <th>Education Yrs</th>\n",
       "      <th>Marital Status</th>\n",
       "      <th>Employer</th>\n",
       "      <th>Occupation</th>\n",
       "      <th>Hours per Week</th>\n",
       "      <th>Native Country</th>\n",
       "      <th>Salary</th>\n",
       "    </tr>\n",
       "  </thead>\n",
       "  <tbody>\n",
       "    <tr>\n",
       "      <th>0</th>\n",
       "      <td>0</td>\n",
       "      <td>13.0</td>\n",
       "      <td>0</td>\n",
       "      <td>0</td>\n",
       "      <td>0</td>\n",
       "      <td>40.0</td>\n",
       "      <td>0</td>\n",
       "      <td>&lt;2L</td>\n",
       "    </tr>\n",
       "    <tr>\n",
       "      <th>1</th>\n",
       "      <td>0</td>\n",
       "      <td>13.0</td>\n",
       "      <td>1</td>\n",
       "      <td>1</td>\n",
       "      <td>1</td>\n",
       "      <td>32.5</td>\n",
       "      <td>0</td>\n",
       "      <td>&lt;2L</td>\n",
       "    </tr>\n",
       "    <tr>\n",
       "      <th>2</th>\n",
       "      <td>1</td>\n",
       "      <td>9.0</td>\n",
       "      <td>2</td>\n",
       "      <td>2</td>\n",
       "      <td>2</td>\n",
       "      <td>40.0</td>\n",
       "      <td>0</td>\n",
       "      <td>&gt;2L</td>\n",
       "    </tr>\n",
       "    <tr>\n",
       "      <th>3</th>\n",
       "      <td>2</td>\n",
       "      <td>7.0</td>\n",
       "      <td>1</td>\n",
       "      <td>2</td>\n",
       "      <td>2</td>\n",
       "      <td>40.0</td>\n",
       "      <td>0</td>\n",
       "      <td>&gt;2L</td>\n",
       "    </tr>\n",
       "    <tr>\n",
       "      <th>4</th>\n",
       "      <td>0</td>\n",
       "      <td>13.0</td>\n",
       "      <td>1</td>\n",
       "      <td>2</td>\n",
       "      <td>3</td>\n",
       "      <td>40.0</td>\n",
       "      <td>1</td>\n",
       "      <td>&gt;2L</td>\n",
       "    </tr>\n",
       "  </tbody>\n",
       "</table>\n",
       "</div>"
      ],
      "text/plain": [
       "   Education  Education Yrs  Marital Status  Employer  Occupation  \\\n",
       "0          0           13.0               0         0           0   \n",
       "1          0           13.0               1         1           1   \n",
       "2          1            9.0               2         2           2   \n",
       "3          2            7.0               1         2           2   \n",
       "4          0           13.0               1         2           3   \n",
       "\n",
       "   Hours per Week  Native Country Salary  \n",
       "0            40.0               0    <2L  \n",
       "1            32.5               0    <2L  \n",
       "2            40.0               0    >2L  \n",
       "3            40.0               0    >2L  \n",
       "4            40.0               1    >2L  "
      ]
     },
     "execution_count": 320,
     "metadata": {},
     "output_type": "execute_result"
    }
   ],
   "source": [
    "data.head()"
   ]
  },
  {
   "cell_type": "code",
   "execution_count": 321,
   "id": "73af1ce2",
   "metadata": {},
   "outputs": [],
   "source": [
    "#Scaliing\n",
    "from sklearn.preprocessing import StandardScaler"
   ]
  },
  {
   "cell_type": "code",
   "execution_count": 322,
   "id": "fb83bb06",
   "metadata": {},
   "outputs": [],
   "source": [
    "sc = StandardScaler()"
   ]
  },
  {
   "cell_type": "code",
   "execution_count": 323,
   "id": "a84d1278",
   "metadata": {},
   "outputs": [],
   "source": [
    "X = data[[ 'Education', 'Education Yrs', 'Marital Status', 'Employer',\n",
    "       'Occupation', 'Hours per Week', 'Native Country']]"
   ]
  },
  {
   "cell_type": "code",
   "execution_count": 324,
   "id": "561e319b",
   "metadata": {},
   "outputs": [],
   "source": [
    "y = data['Salary']"
   ]
  },
  {
   "cell_type": "code",
   "execution_count": 325,
   "id": "e0666b60",
   "metadata": {},
   "outputs": [
    {
     "data": {
      "text/plain": [
       "<2L    16138\n",
       ">2L     9861\n",
       "Name: Salary, dtype: int64"
      ]
     },
     "execution_count": 325,
     "metadata": {},
     "output_type": "execute_result"
    }
   ],
   "source": [
    "y.value_counts()"
   ]
  },
  {
   "cell_type": "code",
   "execution_count": 326,
   "id": "67a15ad1",
   "metadata": {},
   "outputs": [],
   "source": [
    "X = sc.fit_transform(X)"
   ]
  },
  {
   "cell_type": "code",
   "execution_count": 327,
   "id": "056718d0",
   "metadata": {},
   "outputs": [],
   "source": [
    "#train test split"
   ]
  },
  {
   "cell_type": "code",
   "execution_count": 328,
   "id": "978e0405",
   "metadata": {},
   "outputs": [],
   "source": [
    "from sklearn.model_selection import train_test_split"
   ]
  },
  {
   "cell_type": "code",
   "execution_count": 329,
   "id": "248b3a25",
   "metadata": {},
   "outputs": [],
   "source": [
    "X_train, X_test, y_train, y_test = train_test_split(X,y,test_size= 0.2, random_state=42)"
   ]
  },
  {
   "cell_type": "code",
   "execution_count": 330,
   "id": "b71a7852",
   "metadata": {},
   "outputs": [
    {
     "name": "stdout",
     "output_type": "stream",
     "text": [
      "Train data shape : (20799, 7)\n",
      "Test data shape : (5200, 7)\n"
     ]
    }
   ],
   "source": [
    "print(\"Train data shape : {}\".format(X_train.shape))\n",
    "print(\"Test data shape : {}\".format(X_test.shape))"
   ]
  },
  {
   "cell_type": "code",
   "execution_count": 331,
   "id": "aad30832",
   "metadata": {},
   "outputs": [],
   "source": [
    "from sklearn.linear_model import LogisticRegression"
   ]
  },
  {
   "cell_type": "code",
   "execution_count": 332,
   "id": "7ec56e27",
   "metadata": {},
   "outputs": [],
   "source": [
    "model1  = AdaBoostClassifier(n_estimators = 120,random_state=0)"
   ]
  },
  {
   "cell_type": "code",
   "execution_count": 333,
   "id": "aabc97ca",
   "metadata": {},
   "outputs": [
    {
     "data": {
      "text/plain": [
       "AdaBoostClassifier(n_estimators=120, random_state=0)"
      ]
     },
     "execution_count": 333,
     "metadata": {},
     "output_type": "execute_result"
    }
   ],
   "source": [
    "model1.fit(X_train,y_train)"
   ]
  },
  {
   "cell_type": "code",
   "execution_count": 334,
   "id": "fab2424e",
   "metadata": {},
   "outputs": [],
   "source": [
    "y_pred = model1.predict(X_test)"
   ]
  },
  {
   "cell_type": "code",
   "execution_count": 335,
   "id": "edd8afac",
   "metadata": {},
   "outputs": [],
   "source": [
    "result = {\n",
    "    'Actual': y_test,\n",
    "    'Predicted': y_pred\n",
    "}"
   ]
  },
  {
   "cell_type": "code",
   "execution_count": 336,
   "id": "25c2cee2",
   "metadata": {},
   "outputs": [
    {
     "data": {
      "text/html": [
       "<div>\n",
       "<style scoped>\n",
       "    .dataframe tbody tr th:only-of-type {\n",
       "        vertical-align: middle;\n",
       "    }\n",
       "\n",
       "    .dataframe tbody tr th {\n",
       "        vertical-align: top;\n",
       "    }\n",
       "\n",
       "    .dataframe thead th {\n",
       "        text-align: right;\n",
       "    }\n",
       "</style>\n",
       "<table border=\"1\" class=\"dataframe\">\n",
       "  <thead>\n",
       "    <tr style=\"text-align: right;\">\n",
       "      <th></th>\n",
       "      <th>Actual</th>\n",
       "      <th>Predicted</th>\n",
       "    </tr>\n",
       "  </thead>\n",
       "  <tbody>\n",
       "    <tr>\n",
       "      <th>4148</th>\n",
       "      <td>&lt;2L</td>\n",
       "      <td>&lt;2L</td>\n",
       "    </tr>\n",
       "    <tr>\n",
       "      <th>7840</th>\n",
       "      <td>&lt;2L</td>\n",
       "      <td>&lt;2L</td>\n",
       "    </tr>\n",
       "    <tr>\n",
       "      <th>18897</th>\n",
       "      <td>&lt;2L</td>\n",
       "      <td>&lt;2L</td>\n",
       "    </tr>\n",
       "    <tr>\n",
       "      <th>4194</th>\n",
       "      <td>&lt;2L</td>\n",
       "      <td>&lt;2L</td>\n",
       "    </tr>\n",
       "    <tr>\n",
       "      <th>12319</th>\n",
       "      <td>&gt;2L</td>\n",
       "      <td>&lt;2L</td>\n",
       "    </tr>\n",
       "    <tr>\n",
       "      <th>...</th>\n",
       "      <td>...</td>\n",
       "      <td>...</td>\n",
       "    </tr>\n",
       "    <tr>\n",
       "      <th>20591</th>\n",
       "      <td>&gt;2L</td>\n",
       "      <td>&lt;2L</td>\n",
       "    </tr>\n",
       "    <tr>\n",
       "      <th>25739</th>\n",
       "      <td>&lt;2L</td>\n",
       "      <td>&lt;2L</td>\n",
       "    </tr>\n",
       "    <tr>\n",
       "      <th>25584</th>\n",
       "      <td>&lt;2L</td>\n",
       "      <td>&lt;2L</td>\n",
       "    </tr>\n",
       "    <tr>\n",
       "      <th>4217</th>\n",
       "      <td>&gt;2L</td>\n",
       "      <td>&lt;2L</td>\n",
       "    </tr>\n",
       "    <tr>\n",
       "      <th>9902</th>\n",
       "      <td>&gt;2L</td>\n",
       "      <td>&lt;2L</td>\n",
       "    </tr>\n",
       "  </tbody>\n",
       "</table>\n",
       "<p>5200 rows × 2 columns</p>\n",
       "</div>"
      ],
      "text/plain": [
       "      Actual Predicted\n",
       "4148     <2L       <2L\n",
       "7840     <2L       <2L\n",
       "18897    <2L       <2L\n",
       "4194     <2L       <2L\n",
       "12319    >2L       <2L\n",
       "...      ...       ...\n",
       "20591    >2L       <2L\n",
       "25739    <2L       <2L\n",
       "25584    <2L       <2L\n",
       "4217     >2L       <2L\n",
       "9902     >2L       <2L\n",
       "\n",
       "[5200 rows x 2 columns]"
      ]
     },
     "execution_count": 336,
     "metadata": {},
     "output_type": "execute_result"
    }
   ],
   "source": [
    "pd.DataFrame(result)"
   ]
  },
  {
   "cell_type": "code",
   "execution_count": 337,
   "id": "8223f631",
   "metadata": {},
   "outputs": [],
   "source": [
    "from sklearn.metrics import confusion_matrix, accuracy_score, classification_report"
   ]
  },
  {
   "cell_type": "code",
   "execution_count": 338,
   "id": "fa2a7dbc",
   "metadata": {},
   "outputs": [
    {
     "name": "stdout",
     "output_type": "stream",
     "text": [
      "Accuracy Score : 0.6440384615384616 \n",
      "\n",
      "Confusion Matrix:\n",
      " [[3234   40]\n",
      " [1811  115]] \n",
      "\n",
      "Classification Report:\n",
      "               precision    recall  f1-score   support\n",
      "\n",
      "         <2L       0.64      0.99      0.78      3274\n",
      "         >2L       0.74      0.06      0.11      1926\n",
      "\n",
      "    accuracy                           0.64      5200\n",
      "   macro avg       0.69      0.52      0.44      5200\n",
      "weighted avg       0.68      0.64      0.53      5200\n",
      " \n",
      "\n"
     ]
    }
   ],
   "source": [
    "print(\"Accuracy Score : {}\".format(accuracy_score(y_test,y_pred)),\"\\n\")\n",
    "print(\"Confusion Matrix:\\n {}\".format(confusion_matrix(y_test,y_pred)),\"\\n\")\n",
    "print(\"Classification Report:\\n {}\".format(classification_report(y_test,y_pred)),\"\\n\")\n"
   ]
  },
  {
   "cell_type": "code",
   "execution_count": null,
   "id": "0b3455fc",
   "metadata": {},
   "outputs": [],
   "source": []
  },
  {
   "cell_type": "code",
   "execution_count": 339,
   "id": "f356dae2",
   "metadata": {},
   "outputs": [],
   "source": [
    "import pickle \n",
    "#open a file, where you want to store the data\n",
    "file =open('model1.pkl','wb')\n",
    "\n",
    "#dump information to that file \n",
    "pickle.dump(lg_model, file)"
   ]
  },
  {
   "cell_type": "code",
   "execution_count": null,
   "id": "8e22712a",
   "metadata": {},
   "outputs": [],
   "source": []
  }
 ],
 "metadata": {
  "kernelspec": {
   "display_name": "Python 3 (ipykernel)",
   "language": "python",
   "name": "python3"
  },
  "language_info": {
   "codemirror_mode": {
    "name": "ipython",
    "version": 3
   },
   "file_extension": ".py",
   "mimetype": "text/x-python",
   "name": "python",
   "nbconvert_exporter": "python",
   "pygments_lexer": "ipython3",
   "version": "3.9.12"
  }
 },
 "nbformat": 4,
 "nbformat_minor": 5
}
